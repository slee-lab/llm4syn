{
 "cells": [
  {
   "cell_type": "code",
   "execution_count": 2,
   "metadata": {},
   "outputs": [],
   "source": [
    "# Majority of this cell is copied from train_llm4syn.py by Okabe et al. to reproduce what they did\n",
    "\n",
    "import os\n",
    "from os.path import join\n",
    "import numpy as np\n",
    "import torch\n",
    "import random\n",
    "import math\n",
    "# #Not importing a few of the packages, this code is not designed for training\n",
    "# from sklearn.model_selection import KFold\n",
    "# from transformers import AutoModelForCausalLM, TrainingArguments, Trainer, DataCollatorForLanguageModeling, set_seed\n",
    "# from huggingface_hub import login\n",
    "# import wandb\n",
    "# from env_config import hf_api_key_w, data_path, hf_usn, wandb_project, seedn\n",
    "seedn=42\n",
    "data_path=os.environ['DATA_PATH']\n",
    "from utils.data_config import separator_dict, gpt_model_dict, arrow_l2r\n",
    "from utils.data import load_and_sample_data\n",
    "# from utils.model_utils import setup_tokenizer, tokenize_dataset, get_epoch_lists\n",
    "from utils.utilities import make_dict\n",
    "random.seed(seedn)\n",
    "task='tgt2ceq'\n",
    "sample_ratio = 1\n",
    "arrow = arrow_l2r \n",
    "separator, cut = separator_dict[task], ';'\n",
    "dataset = load_and_sample_data(data_path, task, separator, te_ratio=0.1, cut=cut, arrow=arrow, sample_ratio=sample_ratio, save_idx_name=None)\n",
    "\n",
    "from pprint import pprint\n",
    "from collections import Counter"
   ]
  },
  {
   "cell_type": "code",
   "execution_count": 4,
   "metadata": {},
   "outputs": [
    {
     "name": "stdout",
     "output_type": "stream",
     "text": [
      "CaTi4Cu3O12 ||\n",
      "test set, size of 11\n",
      "[('CaTi4Cu3O12 || 3 CuO + 4 TiO2 + 1 CaCO3 -> 1 CaCu3Ti4O12 + 1 CO2', 10),\n",
      " ('CaTi4Cu3O12 || 4 TiO2 + 3 CuO + 1 Ca(OH)2 -> 1 CaCu3Ti4O12 + 1 H2O', 1)]\n",
      "\n",
      "train set, size of 77\n",
      "[('CaTi4Cu3O12 || 3 CuO + 4 TiO2 + 1 CaCO3 -> 1 CaCu3Ti4O12 + 1 CO2', 54),\n",
      " ('CaTi4Cu3O12 || 3 Cu(NO3)2·3H2O + 4 TiO2 + 1 Ca(NO3)2·4H2O -> 1 CaCu3Ti4O12 '\n",
      "  '+ 13 H2O + 8 NO2 + 2 O2',\n",
      "  3),\n",
      " ('CaTi4Cu3O12 || 3 CuO + 4 TiO2 + 1 Ca(OH)2 -> 1 CaCu3Ti4O12 + 1 H2O', 2),\n",
      " ('CaTi4Cu3O12 || 1 CaO + 4 TiO2 + 3 CuO -> 1 CaCu3Ti4O12', 2),\n",
      " ('CaTi4Cu3O12 || 3 CuO + 4 TiO2 + 1 CaCO3 -> 1 CaCu3Ti4.0O12 + 1 CO2', 1),\n",
      " ('CaTi4Cu3O12 || 3 CuO + 4 TiO2 + 1 CaCO3 -> 1 CaCu3Ti4O12 + 1 CO2 ', 1),\n",
      " ('CaTi4Cu3O12 || 3 CuO + 1 CaCO3 + 4 anatase-TiO2 -> 1 CaCu3Ti4O12 + 1 CO2',\n",
      "  1),\n",
      " ('CaTi4Cu3O12 || 3 CuO() + 1 CaCO3 + 4 TiO2() -> 1 CaCu3Ti4O12 + 1 CO2', 1),\n",
      " ('CaTi4Cu3O12 || 3 CuO + 1 CaCO3 + 4 TiO2 -> 1 CaCu3Ti4O12 + 1 CO2', 1),\n",
      " ('CaTi4Cu3O12 || 1 CaO + 3 CuO + 4 TiO2 -> 1 CaCu3Ti4O12', 1),\n",
      " ('CaTi4Cu3O12 || 3 Cu(NO3)2·3H2O + 1 Ca(NO3)2·4H2O + 4 C16H36O14Ti + 74 O2 -> '\n",
      "  '1 CaCu3Ti4O12 + 64 CO2 + 85 H2O + 8 NO2',\n",
      "  1),\n",
      " ('CaTi4Cu3O12 || 4 C12H28O4Ti + 3 Cu(NO3)2 + 1 Ca(NO3)2·4H2O + 70 O2 -> 1 '\n",
      "  'CaCu3Ti4O12 + 48 CO2 + 60 H2O + 8 NO2',\n",
      "  1),\n",
      " ('CaTi4Cu3O12 || 3 Cu(NO3)2·3H2O + 1 Ca(NO3)2·4H2O + 4 (CH3(CH2)3O)4Ti + 94 '\n",
      "  'O2 -> 1 CaCu3Ti4O12 + 64 CO2 + 85 H2O + 8 NO2',\n",
      "  1),\n",
      " ('CaTi4Cu3O12 || 3 CuO + 4 TiO2 + 1 CaCO3 -> 1 CaCu3Ti4O12() + 1 CO2', 1),\n",
      " ('CaTi4Cu3O12 || 3+y CuO + 4 TiO2 + 1 CaCO3 -> 1 CaCu3+yTi4O12 + 1 CO2 + '\n",
      "  '0.5*y O2',\n",
      "  1),\n",
      " ('CaTi4Cu3O12 || 3 CuO + 3 TiO2 + 1 CaTiO3 -> 1 CaCu3Ti4O12', 1),\n",
      " ('CaTi4Cu3O12 || 1 Ca(NO3)2·4H2O + 3 Cu(NO3)2 + 4 C16H36O4Ti + 94 O2 -> 1 '\n",
      "  'CaCu3Ti4O12 + 64 CO2 + 76 H2O + 8 NO2',\n",
      "  1),\n",
      " ('CaTi4Cu3O12 || 3 CuO + 4 TiO2 + 1 CaCO3 -> 1 Ca1Cu3Ti4O12 + 1 CO2', 1),\n",
      " ('CaTi4Cu3O12 || 3 Cu(NO3)2·3H2O + 1 Ca(COOH)2·4H2O + 4 Ti(OC4H9)4 + 95.5 O2 '\n",
      "  '-> 1 CaCu3Ti4O12 + 66 CO2 + 86 H2O + 6 NO2',\n",
      "  1),\n",
      " ('CaTi4Cu3O12 || 1 CaO + 3 CuO + 4 a-TiO2 -> 1 CaCu3Ti4O12', 1)]\n",
      "\n",
      "\n",
      "##############\n",
      "\n",
      "\n",
      "Zr0.54Ti0.46PbO3 ||\n",
      "test set, size of 1\n",
      "[('Zr0.54Ti0.46PbO3 || 1 PbO + 0.46 TiO2 + 0.54 ZrO2 -> 1 Pb(Zr0.54Ti0.46)O3',\n",
      "  1)]\n",
      "\n",
      "train set, size of 1\n",
      "[('Zr0.54Ti0.46PbO3 || 1 PbO + 0.46 TiO2 + 0.54 ZrO2 -> 1 Pb(Zr0.54Ti0.46)O3 ',\n",
      "  1)]\n",
      "\n",
      "\n",
      "##############\n",
      "\n",
      "\n",
      "TiPbO3 ||\n",
      "test set, size of 1\n",
      "[('TiPbO3 || 1 PbO + 1 TiO2 -> 1 PbTiO3', 1)]\n",
      "\n",
      "train set, size of 15\n",
      "[('TiPbO3 || 1 PbO + 1 TiO2 -> 1 PbTiO3', 11),\n",
      " ('TiPbO3 || 1 TiO2 + 1 PbCO3 -> 1 PbTiO3 + 1 CO2', 1),\n",
      " ('TiPbO3 || 1 TiO2 + 1 Pb(NO3)2 -> 1 PbTiO3 + 2 NO2 + 0.5 O2', 1),\n",
      " ('TiPbO3 || 1 PbO + 1 TiO2 -> 1 PbTiO3 ', 1),\n",
      " ('TiPbO3 || 1 Pb(NO3)2 + 1 Ti(C4H9O)4 + 23.5 O2 -> 1 PbTiO3 + 16 CO2 + 18 H2O '\n",
      "  '+ 2 NO2',\n",
      "  1)]\n",
      "\n",
      "\n",
      "##############\n",
      "\n",
      "\n",
      "Eu0.02La0.98AlO3 ||\n",
      "test set, size of 1\n",
      "[('Eu0.02La0.98AlO3 || 0.5 Al2O3 + 0.01 Eu2O3 + 0.49 La2O3 -> 1 '\n",
      "  'Eu0.02La0.98AlO3',\n",
      "  1)]\n",
      "\n",
      "train set, size of 1\n",
      "[('Eu0.02La0.98AlO3 || 0.5 Al2O3 + 0.01 Eu2O3 + 0.49 La2O3 -> 1 '\n",
      "  'Eu0.02La0.98AlO3',\n",
      "  1)]\n",
      "\n",
      "\n",
      "##############\n",
      "\n",
      "\n",
      "BaZrxTi1-xO3 ||\n",
      "test set, size of 3\n",
      "[('BaZrxTi1-xO3 || 1-x TiO2 + x ZrO2 + 1 BaCO3 -> 1 BaZrxTi1-xO3 + 1 CO2', 2),\n",
      " ('BaZrxTi1-xO3 || 1-x BaTiO3 + x BaZrO3 -> 1 Ba(ZrxTi1-x)O3', 1)]\n",
      "\n",
      "train set, size of 3\n",
      "[('BaZrxTi1-xO3 || 1-x TiO2 + x ZrO2 + 1 BaCO3 -> 1 Ba(ZrxTi1-x)O3 + 1 CO2', 1),\n",
      " ('BaZrxTi1-xO3 || 1-x TiO2 + x ZrO2 + 1 BaCO3 -> 1 BaZrxTi1-xO3 + 1 CO2', 1),\n",
      " ('BaZrxTi1-xO3 || 1-x TiO2 + 1 BaCO3 + x ZrO2 -> 1 BaZrxTi1-xO3 + 1 CO2', 1)]\n",
      "\n",
      "\n",
      "##############\n",
      "\n",
      "\n"
     ]
    }
   ],
   "source": [
    "for rxnoi in ['CaTi4Cu3O12 ||',\n",
    "              'Zr0.54Ti0.46PbO3 ||',\n",
    "              'TiPbO3 ||',\n",
    "              'Eu0.02La0.98AlO3 ||',\n",
    "              'BaZrxTi1-xO3 ||',\n",
    "              ]:\n",
    "    print(rxnoi)\n",
    "    for split in ['test','train']:\n",
    "        filtered_dataset = dataset[split].filter(lambda example: example['label'] == rxnoi)\n",
    "        if split=='test' and len(filtered_dataset)==0:\n",
    "            print(\"\\n\\nNo test data!!!!\\n\\n\")#, rxnoi, \"in\", task, \"task\")\n",
    "            break\n",
    "        print(split, \"set, size of\", len(filtered_dataset))\n",
    "        pprint(Counter([example['text'] for example in filtered_dataset]).most_common())\n",
    "        print()\n",
    "    print(\"\\n##############\\n\\n\")"
   ]
  },
  {
   "cell_type": "code",
   "execution_count": 6,
   "metadata": {},
   "outputs": [
    {
     "name": "stdout",
     "output_type": "stream",
     "text": [
      "lhs2rhs\n"
     ]
    },
    {
     "name": "stderr",
     "output_type": "stream",
     "text": [
      "100%|██████████| 1797/1797 [00:00<00:00, 560300.65it/s]\n"
     ]
    },
    {
     "name": "stdout",
     "output_type": "stream",
     "text": [
      "Out of 1797 points in test data,\n",
      "459(0.255) with data leakage (in both test and train);\n",
      "1338(0.745) without data leakage (in only test but not train)\n",
      "##############\n",
      "\n",
      "\n",
      "rhs2lhs\n"
     ]
    },
    {
     "name": "stderr",
     "output_type": "stream",
     "text": [
      "100%|██████████| 1784/1784 [00:00<00:00, 885414.55it/s]\n"
     ]
    },
    {
     "name": "stdout",
     "output_type": "stream",
     "text": [
      "Out of 1784 points in test data,\n",
      "584(0.327) with data leakage (in both test and train);\n",
      "1200(0.673) without data leakage (in only test but not train)\n",
      "##############\n",
      "\n",
      "\n",
      "lhsope2rhs\n"
     ]
    },
    {
     "name": "stderr",
     "output_type": "stream",
     "text": [
      "100%|██████████| 1941/1941 [00:00<00:00, 1024300.96it/s]\n"
     ]
    },
    {
     "name": "stdout",
     "output_type": "stream",
     "text": [
      "Out of 1941 points in test data,\n",
      "107(0.055) with data leakage (in both test and train);\n",
      "1834(0.945) without data leakage (in only test but not train)\n",
      "##############\n",
      "\n",
      "\n",
      "rhsope2lhs\n"
     ]
    },
    {
     "name": "stderr",
     "output_type": "stream",
     "text": [
      "100%|██████████| 1930/1930 [00:00<00:00, 1118249.31it/s]\n"
     ]
    },
    {
     "name": "stdout",
     "output_type": "stream",
     "text": [
      "Out of 1930 points in test data,\n",
      "208(0.108) with data leakage (in both test and train);\n",
      "1722(0.892) without data leakage (in only test but not train)\n",
      "##############\n",
      "\n",
      "\n",
      "tgt2ceq\n"
     ]
    },
    {
     "name": "stderr",
     "output_type": "stream",
     "text": [
      "100%|██████████| 1715/1715 [00:00<00:00, 1165084.44it/s]\n"
     ]
    },
    {
     "name": "stdout",
     "output_type": "stream",
     "text": [
      "Out of 1715 points in test data,\n",
      "530(0.309) with data leakage (in both test and train);\n",
      "1185(0.691) without data leakage (in only test but not train)\n",
      "##############\n",
      "\n",
      "\n",
      "tgtope2ceq\n"
     ]
    },
    {
     "name": "stderr",
     "output_type": "stream",
     "text": [
      "100%|██████████| 1940/1940 [00:00<00:00, 908648.77it/s]"
     ]
    },
    {
     "name": "stdout",
     "output_type": "stream",
     "text": [
      "Out of 1940 points in test data,\n",
      "130(0.067) with data leakage (in both test and train);\n",
      "1810(0.933) without data leakage (in only test but not train)\n",
      "##############\n",
      "\n",
      "\n"
     ]
    },
    {
     "name": "stderr",
     "output_type": "stream",
     "text": [
      "\n"
     ]
    }
   ],
   "source": [
    "\n",
    "for task in ['lhs2rhs', 'rhs2lhs', 'lhsope2rhs', 'rhsope2lhs', 'tgt2ceq', 'tgtope2ceq']:\n",
    "    print(task)\n",
    "    separator = separator_dict[task]\n",
    "    dataset = load_and_sample_data(data_path, task, separator, te_ratio=0.1, cut=cut, arrow=arrow, sample_ratio=sample_ratio, save_idx_name=None)\n",
    "\n",
    "    all_tgts=set([example['label'] for example in dataset['train']]+[example['label'] for example in dataset['test']])\n",
    "    test_tgts=set([example['label'] for example in dataset['test']])\n",
    "    count_notest, count_yestestnotrain, count_dataleaked = 0, 0, 0\n",
    "    # First, create dictionaries to store label counts for each split\n",
    "    train_labels = defaultdict(int)\n",
    "    test_labels = defaultdict(int)\n",
    "\n",
    "    # Count occurrences of each label in one pass\n",
    "    for split in ['train', 'test']:\n",
    "        for example in dataset[split]:\n",
    "            if split == 'train':\n",
    "                train_labels[example['label']] += 1\n",
    "            else:\n",
    "                test_labels[example['label']] += 1\n",
    "\n",
    "    # Initialize counters\n",
    "    count_notest = 0\n",
    "    count_yestestnotrain = []\n",
    "    count_dataleaked = 0\n",
    "\n",
    "    # Process all unique labels\n",
    "    for tgtoi in tqdm(test_tgts):\n",
    "        if test_labels.get(tgtoi, 0) == 0:\n",
    "            count_notest += 1\n",
    "        elif train_labels.get(tgtoi, 0) == 0:\n",
    "            count_yestestnotrain.append(test_labels.get(tgtoi, 0))\n",
    "        else:\n",
    "            count_dataleaked += 1\n",
    "    \n",
    "    print(f\"Out of {len(test_tgts)} points in test data,\\n{count_dataleaked}({round(count_dataleaked/len(test_tgts),3)}) with data leakage (in both test and train);\\n{len(count_yestestnotrain)}({round(len(count_yestestnotrain)/len(test_tgts),3)}) without data leakage (in only test but not train)\\n##############\\n\\n\")#)\")#,\\n\\t{count_notest} not in test data\")"
   ]
  }
 ],
 "metadata": {
  "language_info": {
   "name": "python"
  }
 },
 "nbformat": 4,
 "nbformat_minor": 2
}
