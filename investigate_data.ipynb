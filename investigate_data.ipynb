{
 "cells": [
  {
   "cell_type": "code",
   "execution_count": 6,
   "metadata": {},
   "outputs": [
    {
     "name": "stderr",
     "output_type": "stream",
     "text": [
      "Filter: 100%|██████████| 1948/1948 [00:00<00:00, 131392.39 examples/s]\n"
     ]
    },
    {
     "name": "stdout",
     "output_type": "stream",
     "text": [
      "test set, size of 11\n",
      "[('CaTi4Cu3O12 || 3 CuO + 4 TiO2 + 1 CaCO3 -> 1 CaCu3Ti4O12 + 1 CO2', 10),\n",
      " ('CaTi4Cu3O12 || 4 TiO2 + 3 CuO + 1 Ca(OH)2 -> 1 CaCu3Ti4O12 + 1 H2O', 1)]\n",
      "\n"
     ]
    },
    {
     "name": "stderr",
     "output_type": "stream",
     "text": [
      "Filter: 100%|██████████| 17540/17540 [00:00<00:00, 160630.07 examples/s]"
     ]
    },
    {
     "name": "stdout",
     "output_type": "stream",
     "text": [
      "train set, size of 77\n",
      "[('CaTi4Cu3O12 || 3 CuO + 4 TiO2 + 1 CaCO3 -> 1 CaCu3Ti4O12 + 1 CO2', 54),\n",
      " ('CaTi4Cu3O12 || 3 Cu(NO3)2·3H2O + 4 TiO2 + 1 Ca(NO3)2·4H2O -> 1 CaCu3Ti4O12 '\n",
      "  '+ 13 H2O + 8 NO2 + 2 O2',\n",
      "  3),\n",
      " ('CaTi4Cu3O12 || 3 CuO + 4 TiO2 + 1 Ca(OH)2 -> 1 CaCu3Ti4O12 + 1 H2O', 2),\n",
      " ('CaTi4Cu3O12 || 1 CaO + 4 TiO2 + 3 CuO -> 1 CaCu3Ti4O12', 2),\n",
      " ('CaTi4Cu3O12 || 3 CuO + 4 TiO2 + 1 CaCO3 -> 1 CaCu3Ti4.0O12 + 1 CO2', 1),\n",
      " ('CaTi4Cu3O12 || 3 CuO + 4 TiO2 + 1 CaCO3 -> 1 CaCu3Ti4O12 + 1 CO2 ', 1),\n",
      " ('CaTi4Cu3O12 || 3 CuO + 1 CaCO3 + 4 anatase-TiO2 -> 1 CaCu3Ti4O12 + 1 CO2',\n",
      "  1),\n",
      " ('CaTi4Cu3O12 || 3 CuO() + 1 CaCO3 + 4 TiO2() -> 1 CaCu3Ti4O12 + 1 CO2', 1),\n",
      " ('CaTi4Cu3O12 || 3 CuO + 1 CaCO3 + 4 TiO2 -> 1 CaCu3Ti4O12 + 1 CO2', 1),\n",
      " ('CaTi4Cu3O12 || 1 CaO + 3 CuO + 4 TiO2 -> 1 CaCu3Ti4O12', 1),\n",
      " ('CaTi4Cu3O12 || 3 Cu(NO3)2·3H2O + 1 Ca(NO3)2·4H2O + 4 C16H36O14Ti + 74 O2 -> '\n",
      "  '1 CaCu3Ti4O12 + 64 CO2 + 85 H2O + 8 NO2',\n",
      "  1),\n",
      " ('CaTi4Cu3O12 || 4 C12H28O4Ti + 3 Cu(NO3)2 + 1 Ca(NO3)2·4H2O + 70 O2 -> 1 '\n",
      "  'CaCu3Ti4O12 + 48 CO2 + 60 H2O + 8 NO2',\n",
      "  1),\n",
      " ('CaTi4Cu3O12 || 3 Cu(NO3)2·3H2O + 1 Ca(NO3)2·4H2O + 4 (CH3(CH2)3O)4Ti + 94 '\n",
      "  'O2 -> 1 CaCu3Ti4O12 + 64 CO2 + 85 H2O + 8 NO2',\n",
      "  1),\n",
      " ('CaTi4Cu3O12 || 3 CuO + 4 TiO2 + 1 CaCO3 -> 1 CaCu3Ti4O12() + 1 CO2', 1),\n",
      " ('CaTi4Cu3O12 || 3+y CuO + 4 TiO2 + 1 CaCO3 -> 1 CaCu3+yTi4O12 + 1 CO2 + '\n",
      "  '0.5*y O2',\n",
      "  1),\n",
      " ('CaTi4Cu3O12 || 3 CuO + 3 TiO2 + 1 CaTiO3 -> 1 CaCu3Ti4O12', 1),\n",
      " ('CaTi4Cu3O12 || 1 Ca(NO3)2·4H2O + 3 Cu(NO3)2 + 4 C16H36O4Ti + 94 O2 -> 1 '\n",
      "  'CaCu3Ti4O12 + 64 CO2 + 76 H2O + 8 NO2',\n",
      "  1),\n",
      " ('CaTi4Cu3O12 || 3 CuO + 4 TiO2 + 1 CaCO3 -> 1 Ca1Cu3Ti4O12 + 1 CO2', 1),\n",
      " ('CaTi4Cu3O12 || 3 Cu(NO3)2·3H2O + 1 Ca(COOH)2·4H2O + 4 Ti(OC4H9)4 + 95.5 O2 '\n",
      "  '-> 1 CaCu3Ti4O12 + 66 CO2 + 86 H2O + 6 NO2',\n",
      "  1),\n",
      " ('CaTi4Cu3O12 || 1 CaO + 3 CuO + 4 a-TiO2 -> 1 CaCu3Ti4O12', 1)]\n",
      "\n"
     ]
    },
    {
     "name": "stderr",
     "output_type": "stream",
     "text": [
      "\n"
     ]
    }
   ],
   "source": [
    "import os\n",
    "from os.path import join\n",
    "import numpy as np\n",
    "import torch\n",
    "import random\n",
    "import math\n",
    "# from sklearn.model_selection import KFold\n",
    "# from transformers import AutoModelForCausalLM, TrainingArguments, Trainer, DataCollatorForLanguageModeling, set_seed\n",
    "# from huggingface_hub import login\n",
    "# import wandb\n",
    "# from env_config import hf_api_key_w, data_path, hf_usn, wandb_project, seedn\n",
    "seedn=42\n",
    "data_path=os.environ['DATA_PATH']\n",
    "from utils.data_config import separator_dict, gpt_model_dict, arrow_l2r\n",
    "from utils.data import load_and_sample_data\n",
    "# from utils.model_utils import setup_tokenizer, tokenize_dataset, get_epoch_lists\n",
    "from utils.utilities import make_dict\n",
    "random.seed(seedn)\n",
    "task='tgt2ceq'\n",
    "sample_ratio = 1\n",
    "arrow = arrow_l2r \n",
    "separator, cut = separator_dict[task], ';'\n",
    "dataset = load_and_sample_data(data_path, task, separator, te_ratio=0.1, cut=cut, arrow=arrow, sample_ratio=sample_ratio, save_idx_name=None)\n",
    "\n",
    "from pprint import pprint\n",
    "from collections import Counter\n",
    "for rxnoi in ['CaTi4Cu3O12 ||',]:\n",
    "    for split in ['test','train']:\n",
    "        filtered_dataset = dataset[split].filter(lambda example: example['label'] == rxnoi)\n",
    "        if split=='test' and len(filtered_dataset)==0:\n",
    "            break\n",
    "        print(split, \"set, size of\", len(filtered_dataset))\n",
    "        pprint(Counter([example['text'] for example in filtered_dataset]).most_common())\n",
    "        print()"
   ]
  },
  {
   "cell_type": "code",
   "execution_count": null,
   "metadata": {},
   "outputs": [],
   "source": []
  }
 ],
 "metadata": {
  "language_info": {
   "name": "python"
  }
 },
 "nbformat": 4,
 "nbformat_minor": 2
}
